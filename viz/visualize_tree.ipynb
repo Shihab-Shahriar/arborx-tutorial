{
 "cells": [
  {
   "cell_type": "code",
   "execution_count": 1,
   "metadata": {},
   "outputs": [],
   "source": [
    "import tempfile\n",
    "import os"
   ]
  },
  {
   "cell_type": "markdown",
   "metadata": {},
   "source": [
    "## Tree Structure"
   ]
  },
  {
   "cell_type": "markdown",
   "metadata": {},
   "source": [
    "+ Tree structure will be output in \"tree.png\" file\n",
    "+ "
   ]
  },
  {
   "cell_type": "code",
   "execution_count": 7,
   "metadata": {},
   "outputs": [],
   "source": [
    "def print_graph(tree, png_file):\n",
    "    with tempfile.NamedTemporaryFile(mode='w') as fout:\n",
    "        for line in tree:\n",
    "            print(line, file=fout)\n",
    "        fout.flush()\n",
    "        os.system('dot -Tpng {dot_file} -o {png_file}'.format(dot_file=fout.name, png_file=png_file)) #may use \"twopi\" command instead of \"dot\""
   ]
  },
  {
   "cell_type": "code",
   "execution_count": 8,
   "metadata": {},
   "outputs": [],
   "source": [
    "tree = []\n",
    "replace = {\n",
    "    '[internal]': '[style=filled, color=red]',\n",
    "    '[leaf]': '[style=filled, color=green]',\n",
    "    '[edge]': '',\n",
    "    '[pendant]': '',\n",
    "}\n",
    "with open('viz_tree_all_nodes_and_edges.dot.m4') as fin:\n",
    "    for line in fin:\n",
    "        line = line.rstrip('\\n')\n",
    "        for old, new in replace.items():\n",
    "            line = line.replace(old, new)\n",
    "        tree.append(line)"
   ]
  },
  {
   "cell_type": "code",
   "execution_count": 9,
   "metadata": {},
   "outputs": [],
   "source": [
    "tree.insert(0, 'digraph g {')\n",
    "tree.append('}')"
   ]
  },
  {
   "cell_type": "code",
   "execution_count": 11,
   "metadata": {},
   "outputs": [],
   "source": [
    "print_graph(tree, \"tree.png\")"
   ]
  },
  {
   "cell_type": "markdown",
   "metadata": {},
   "source": [
    "## Traversal"
   ]
  },
  {
   "cell_type": "code",
   "execution_count": null,
   "metadata": {},
   "outputs": [],
   "source": [
    "# TODO"
   ]
  },
  {
   "cell_type": "code",
   "execution_count": null,
   "metadata": {},
   "outputs": [],
   "source": []
  },
  {
   "cell_type": "code",
   "execution_count": null,
   "metadata": {},
   "outputs": [],
   "source": []
  },
  {
   "cell_type": "code",
   "execution_count": null,
   "metadata": {},
   "outputs": [],
   "source": []
  },
  {
   "cell_type": "markdown",
   "metadata": {},
   "source": [
    "## Bounding Volumes"
   ]
  },
  {
   "cell_type": "code",
   "execution_count": null,
   "metadata": {},
   "outputs": [],
   "source": [
    "import subprocess\n",
    "\n",
    "def transform_rectangle_into_node_if_it_has_wrong_topological_dimension(s):\n",
    "    assert(s.find('rectangle') != -1)\n",
    "    def extract(s, start, end):\n",
    "        return s[s.find(start):s.find(end)+1]\n",
    "    min_corner, max_corner = [extract(x, start='(', end=')') for x in s.split('rectangle')]\n",
    "    if (min_corner == max_corner):\n",
    "        attributes = extract(s, start='[', end=']')\n",
    "        return r'\\node{0} at {1} {2};'.format(attributes, min_corner, r'{\\textbullet}')\n",
    "    else:\n",
    "        return s     \n",
    "\n",
    "\n",
    "def print_image(headers, pdf_file):\n",
    "    #print(headers, pdf_file)\n",
    "    tmpdir = tempfile.TemporaryDirectory()\n",
    "    prefix = pdf_file.split('.')[0]\n",
    "    with open('{0}/{1}.tex'.format(tmpdir.name, prefix), 'w') as fout:\n",
    "        for line in headers:\n",
    "            print(line, file=fout)\n",
    "    cmd = 'pdflatex -output-directory={0} {0}/{1}.tex'.format(tmpdir.name, prefix)\n",
    "    subprocess.run(cmd.split(' '), stdout=subprocess.PIPE)\n",
    "    cmd = 'cp {0}/{1}.pdf tempp/'.format(tmpdir.name, prefix)\n",
    "    subprocess.run(cmd.split(' '))\n",
    "    tmpdir.cleanup()\n"
   ]
  },
  {
   "cell_type": "code",
   "execution_count": null,
   "metadata": {},
   "outputs": [],
   "source": [
    "bounding_volumes = []\n",
    "replace = {\n",
    "    'internal': 'thick, color=black',\n",
    "    'leaf': 'ultra thin, color=pink',\n",
    "    'leaf_point': 'ultra thin, color=green',\n",
    "    'result': 'ultra thick, color=black',\n",
    "}\n",
    "#with open('damien_8_nearest_to_origin_tree_traversal_bounding_volumes.tex') as fin:\n",
    "with open('viz_bounding_volumes.tex') as fin:\n",
    "    for line in fin:\n",
    "        if line.find('rectangle') != -1:\n",
    "            line = transform_rectangle_into_node_if_it_has_wrong_topological_dimension(line)\n",
    "        for old, new in replace.items():\n",
    "            line = line.replace(old, new)\n",
    "        line = line.rstrip('\\n')\n",
    "        if line and not line.lstrip(' ').startswith('//'):\n",
    "            #print(line)\n",
    "            bounding_volumes.append(line)"
   ]
  },
  {
   "cell_type": "code",
   "execution_count": null,
   "metadata": {},
   "outputs": [],
   "source": [
    "headers = r\"\"\"\\documentclass[tikz]{standalone}\n",
    "\\usepackage{tikz}\n",
    "\\tikzset{\n",
    "  internal/.style = {thick,color=black},\n",
    "  leaf/.style = {ultra thick,color=red, fill},\n",
    "  result/.style = {ultra thick,color=orange},\n",
    "  leaf_point/.style = {ultra thin,color=green}\n",
    "}\n",
    "\\begin{document}\n",
    "\\begin{tikzpicture}[scale=4]\n",
    "\\input{viz_points}\n",
    "\\end{tikzpicture}\n",
    "\\end{document}\"\"\".split('\\n')"
   ]
  },
  {
   "cell_type": "code",
   "execution_count": null,
   "metadata": {},
   "outputs": [],
   "source": [
    "for index, line in enumerate(bounding_volumes):\n",
    "    headers.insert(-2, line)\n",
    "    print_image(headers, 'bbb_{0:04d}.pdf'.format(index))"
   ]
  },
  {
   "cell_type": "code",
   "execution_count": null,
   "metadata": {},
   "outputs": [],
   "source": [
    "prefix='bbb'\n",
    "os.system(f'convert -delay 20 -quality 10 {prefix}_*.pdf {prefix}.gif')"
   ]
  },
  {
   "cell_type": "code",
   "execution_count": null,
   "metadata": {},
   "outputs": [],
   "source": []
  },
  {
   "cell_type": "code",
   "execution_count": null,
   "metadata": {},
   "outputs": [],
   "source": [
    "def print_graph(tree, png_file):\n",
    "    with tempfile.NamedTemporaryFile(mode='w') as fout:\n",
    "        for line in tree:\n",
    "            print(line, file=fout)\n",
    "        fout.flush()\n",
    "        os.system('twopi -Tpng {dot_file} -o {png_file}'.format(dot_file=fout.name, png_file=png_file))"
   ]
  },
  {
   "cell_type": "code",
   "execution_count": null,
   "metadata": {},
   "outputs": [],
   "source": [
    "tree = []\n",
    "replace = {\n",
    "    '[internal]': '[style=filled, color=red]',\n",
    "    '[leaf]': '[style=filled, color=green]',\n",
    "    '[edge]': '',\n",
    "    '[pendant]': '',\n",
    "}\n",
    "with open('viz_tree_all_nodes_and_edges.dot.m4') as fin:\n",
    "    for line in fin:\n",
    "        line = line.rstrip('\\n')\n",
    "        for old, new in replace.items():\n",
    "            line = line.replace(old, new)\n",
    "        tree.append(line)\n",
    "        \n",
    "tree.insert(0, 'digraph g {')\n",
    "tree.append('}')"
   ]
  },
  {
   "cell_type": "code",
   "execution_count": null,
   "metadata": {},
   "outputs": [],
   "source": [
    "nearest_traversal = []\n",
    "replace = {\n",
    "    '[internal]': '[style=filled, color=yellow]',\n",
    "    '[leaf]': '[style=filled, color=pink]',\n",
    "    '[result]': '[style=filled, color=black]',\n",
    "}\n",
    "with open('big_8_nearest_to_origin_tree_traversal_nodes.dot.m4') as fin:\n",
    "    def is_commented(line):\n",
    "        return line.lstrip(' ').startswith('//')\n",
    "    def is_edge(line):\n",
    "        return line.count('->') > 0\n",
    "    for line in fin:\n",
    "        for old, new in replace.items():\n",
    "            line = line.replace(old, new)\n",
    "        line = line.rstrip('\\n')\n",
    "        if line and not is_commented(line) and not is_edge(line):\n",
    "            print(line)\n",
    "            nearest_traversal.append(line)"
   ]
  },
  {
   "cell_type": "code",
   "execution_count": null,
   "metadata": {},
   "outputs": [],
   "source": []
  },
  {
   "cell_type": "code",
   "execution_count": null,
   "metadata": {},
   "outputs": [],
   "source": []
  },
  {
   "cell_type": "code",
   "execution_count": null,
   "metadata": {},
   "outputs": [],
   "source": [
    "\n",
    "\n",
    "\n",
    "\n",
    "\n",
    "\n",
    "\n",
    "\n",
    "\n",
    "\n",
    "\n",
    "\n",
    "\n",
    "\n"
   ]
  }
 ],
 "metadata": {
  "kernelspec": {
   "display_name": "Python 3 (ipykernel)",
   "language": "python",
   "name": "python3"
  },
  "language_info": {
   "codemirror_mode": {
    "name": "ipython",
    "version": 3
   },
   "file_extension": ".py",
   "mimetype": "text/x-python",
   "name": "python",
   "nbconvert_exporter": "python",
   "pygments_lexer": "ipython3",
   "version": "3.9.7"
  }
 },
 "nbformat": 4,
 "nbformat_minor": 4
}
